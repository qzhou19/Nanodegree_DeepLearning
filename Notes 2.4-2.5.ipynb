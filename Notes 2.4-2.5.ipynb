{
 "cells": [
  {
   "cell_type": "markdown",
   "metadata": {},
   "source": [
    "## 2.4 Tensor Flow Project (IMAGE): MLP with MNIST - Autoencoder"
   ]
  },
  {
   "cell_type": "markdown",
   "metadata": {},
   "source": [
    "__Network Strucuter:__ 1 Hidden Layer, Input -> Hidden(encoding), Hidden -> Output (decoding)"
   ]
  },
  {
   "cell_type": "code",
   "execution_count": 10,
   "metadata": {},
   "outputs": [],
   "source": [
    "%matplotlib inline\n",
    "\n",
    "import numpy as np\n",
    "import tensorflow as tf\n",
    "import matplotlib.pyplot as plt"
   ]
  },
  {
   "cell_type": "code",
   "execution_count": 11,
   "metadata": {
    "scrolled": true
   },
   "outputs": [
    {
     "name": "stdout",
     "output_type": "stream",
     "text": [
      "Extracting ..\\ClassSampleData\\train-images-idx3-ubyte.gz\n",
      "Extracting ..\\ClassSampleData\\train-labels-idx1-ubyte.gz\n",
      "Extracting ..\\ClassSampleData\\t10k-images-idx3-ubyte.gz\n",
      "Extracting ..\\ClassSampleData\\t10k-labels-idx1-ubyte.gz\n"
     ]
    }
   ],
   "source": [
    "from tensorflow.examples.tutorials.mnist import input_data\n",
    "mnist = input_data.read_data_sets('..\\\\ClassSampleData\\\\', validation_size=0)"
   ]
  },
  {
   "cell_type": "code",
   "execution_count": 12,
   "metadata": {},
   "outputs": [],
   "source": [
    "# Network Structure\n",
    "# Size of the encoding layer (the hidden layer)\n",
    "encoding_dim = 32\n",
    "\n",
    "image_size = mnist.train.images.shape[1]\n",
    "\n",
    "inputs_ = tf.placeholder(tf.float32, (None, image_size), name='inputs')\n",
    "targets_ = tf.placeholder(tf.float32, (None, image_size), name='targets')\n",
    "\n",
    "\n",
    "encoded = tf.layers.dense(inputs_, encoding_dim, activation=tf.nn.relu)\n",
    "logits = tf.layers.dense(encoded, image_size, activation=None)\n",
    "\n",
    "decoded = tf.nn.sigmoid(logits, name='output')\n",
    "\n",
    "loss = tf.nn.sigmoid_cross_entropy_with_logits(labels=targets_, logits=logits)\n",
    "cost = tf.reduce_mean(loss)\n",
    "opt = tf.train.AdamOptimizer(0.001).minimize(cost)"
   ]
  },
  {
   "cell_type": "code",
   "execution_count": 13,
   "metadata": {},
   "outputs": [
    {
     "name": "stdout",
     "output_type": "stream",
     "text": [
      "Epoch: 1/20... Training loss: 0.1829\n",
      "Epoch: 2/20... Training loss: 0.1437\n",
      "Epoch: 3/20... Training loss: 0.1247\n",
      "Epoch: 4/20... Training loss: 0.1132\n",
      "Epoch: 5/20... Training loss: 0.1076\n",
      "Epoch: 6/20... Training loss: 0.1016\n",
      "Epoch: 7/20... Training loss: 0.0994\n",
      "Epoch: 8/20... Training loss: 0.0940\n",
      "Epoch: 9/20... Training loss: 0.0951\n",
      "Epoch: 10/20... Training loss: 0.0911\n",
      "Epoch: 11/20... Training loss: 0.0958\n",
      "Epoch: 12/20... Training loss: 0.0942\n",
      "Epoch: 13/20... Training loss: 0.0910\n",
      "Epoch: 14/20... Training loss: 0.0970\n",
      "Epoch: 15/20... Training loss: 0.0940\n",
      "Epoch: 16/20... Training loss: 0.0917\n",
      "Epoch: 17/20... Training loss: 0.0916\n",
      "Epoch: 18/20... Training loss: 0.0934\n",
      "Epoch: 19/20... Training loss: 0.0919\n",
      "Epoch: 20/20... Training loss: 0.0921\n"
     ]
    }
   ],
   "source": [
    "sess = tf.Session()\n",
    "epochs = 20\n",
    "batch_size = 200\n",
    "\n",
    "sess.run(tf.global_variables_initializer())\n",
    "for e in range(epochs):\n",
    "    for ii in range(mnist.train.num_examples//batch_size):\n",
    "        batch = mnist.train.next_batch(batch_size)\n",
    "        feed = {inputs_: batch[0], targets_: batch[0]}\n",
    "        batch_cost, _ = sess.run([cost, opt], feed_dict=feed)\n",
    "\n",
    "    print(\"Epoch: {}/{}...\".format(e+1, epochs), \"Training loss: {:.4f}\".format(batch_cost))"
   ]
  },
  {
   "cell_type": "markdown",
   "metadata": {},
   "source": [
    "## 2.5 Tensor Flow Project (IMAGE): CNN with MNIST - Autoencoder"
   ]
  },
  {
   "cell_type": "markdown",
   "metadata": {},
   "source": [
    "### Network Structure:  \n",
    "__1. Input: (None, 28, 28, 1)__  \n",
    "__2. Encoding/Convolution/Compression:__   \n",
    "    2.1. Conv2d, stride=1, padding=same, coding nodes=n, (None, 28, 28, n)  \n",
    "    2.2. Maxpooling, stride=2, padding=same, (None, 14, 14, n)  \n",
    "    2.3. Conv2d, stride=1, padding=same, coding nodes=n/2, (None, 14, 14, n/2)  \n",
    "    2.4. Maxpooling, stride=2, padding=same, (None, 7, 7, n/2)  \n",
    "    2.5. Conv2d, stride=1, padding=same, coding nodes=n/2, (None, 7, 7, n/2)  \n",
    "    2.6. Maxpooling, stride=2, padding=same, (None, 4, 4, n/2)  \n",
    "__3. Decoding/Upsampling/Uncompression:__   \n",
    "    3.1. Resize, (None, 7, 7, n/2)  \n",
    "    3.2. Conv2d, stride=1, padding=same, coding nodes=n/2, (None, 7, 7, n/2)  \n",
    "    3.3. Resize, (None, 14, 14, n/2)  \n",
    "    3.4. Conv2d, stride=1, padding=same, coding nodes=n/2, (None, 14, 14, n/2)  \n",
    "    3.5. Resize, (None, 28, 28, n/2)  \n",
    "    3.6. Conv2d, stride=1, padding=same, coding nodes=n, (None, 28, 28, n)  \n",
    "__4. Output: (None, 28, 28, 1)__  \n",
    "\n",
    "__Notes:__ Same data as 2.4  \n",
    "__Notes2:__ A good use case will be denoise images with deeper layers"
   ]
  },
  {
   "cell_type": "code",
   "execution_count": 14,
   "metadata": {},
   "outputs": [],
   "source": [
    "inputs_ = tf.placeholder(tf.float32, (None, 28, 28, 1), name='inputs')\n",
    "targets_ = tf.placeholder(tf.float32, (None, 28, 28, 1), name='targets')\n",
    "\n",
    "### Encoder\n",
    "conv1 = tf.layers.conv2d(inputs_, 16, (3,3), padding='same', activation=tf.nn.relu)\n",
    "# Now 28x28x16\n",
    "maxpool1 = tf.layers.max_pooling2d(conv1, (2,2), (2,2), padding='same')\n",
    "# Now 14x14x16\n",
    "conv2 = tf.layers.conv2d(maxpool1, 8, (3,3), padding='same', activation=tf.nn.relu)\n",
    "# Now 14x14x8\n",
    "maxpool2 = tf.layers.max_pooling2d(conv2, (2,2), (2,2), padding='same')\n",
    "# Now 7x7x8\n",
    "conv3 = tf.layers.conv2d(maxpool2, 8, (3,3), padding='same', activation=tf.nn.relu)\n",
    "# Now 7x7x8\n",
    "encoded = tf.layers.max_pooling2d(conv3, (2,2), (2,2), padding='same')\n",
    "# Now 4x4x8\n",
    "\n",
    "### Decoder\n",
    "upsample1 = tf.image.resize_nearest_neighbor(encoded, (7,7))\n",
    "# Now 7x7x8\n",
    "conv4 = tf.layers.conv2d(upsample1, 8, (3,3), padding='same', activation=tf.nn.relu)\n",
    "# Now 7x7x8\n",
    "upsample2 = tf.image.resize_nearest_neighbor(conv4, (14,14))\n",
    "# Now 14x14x8\n",
    "conv5 = tf.layers.conv2d(upsample2, 8, (3,3), padding='same', activation=tf.nn.relu)\n",
    "# Now 14x14x8\n",
    "upsample3 = tf.image.resize_nearest_neighbor(conv5, (28,28))\n",
    "# Now 28x28x8\n",
    "conv6 = tf.layers.conv2d(upsample3, 16, (3,3), padding='same', activation=tf.nn.relu)\n",
    "# Now 28x28x16\n",
    "\n",
    "logits = tf.layers.conv2d(conv6, 1, (3,3), padding='same', activation=None)\n",
    "#Now 28x28x1\n",
    "\n",
    "decoded = tf.nn.sigmoid(logits, name='decoded')\n",
    "\n",
    "loss = tf.nn.sigmoid_cross_entropy_with_logits(labels=targets_, logits=logits)\n",
    "cost = tf.reduce_mean(loss)\n",
    "opt = tf.train.AdamOptimizer(0.001).minimize(cost)"
   ]
  },
  {
   "cell_type": "code",
   "execution_count": 15,
   "metadata": {},
   "outputs": [
    {
     "name": "stdout",
     "output_type": "stream",
     "text": [
      "Epoch: 1/20... Training loss: 0.1610\n",
      "Epoch: 2/20... Training loss: 0.1388\n",
      "Epoch: 3/20... Training loss: 0.1302\n",
      "Epoch: 4/20... Training loss: 0.1214\n",
      "Epoch: 5/20... Training loss: 0.1155\n",
      "Epoch: 6/20... Training loss: 0.1115\n",
      "Epoch: 7/20... Training loss: 0.1095\n",
      "Epoch: 8/20... Training loss: 0.1081\n",
      "Epoch: 9/20... Training loss: 0.1069\n",
      "Epoch: 10/20... Training loss: 0.1053\n",
      "Epoch: 11/20... Training loss: 0.1069\n",
      "Epoch: 12/20... Training loss: 0.1007\n",
      "Epoch: 13/20... Training loss: 0.0994\n",
      "Epoch: 14/20... Training loss: 0.1022\n",
      "Epoch: 15/20... Training loss: 0.0975\n",
      "Epoch: 16/20... Training loss: 0.1017\n",
      "Epoch: 17/20... Training loss: 0.0999\n",
      "Epoch: 18/20... Training loss: 0.1004\n",
      "Epoch: 19/20... Training loss: 0.1002\n",
      "Epoch: 20/20... Training loss: 0.0982\n"
     ]
    }
   ],
   "source": [
    "sess = tf.Session()\n",
    "\n",
    "epochs = 20\n",
    "batch_size = 200\n",
    "sess.run(tf.global_variables_initializer())\n",
    "for e in range(epochs):\n",
    "    for ii in range(mnist.train.num_examples//batch_size):\n",
    "        batch = mnist.train.next_batch(batch_size)\n",
    "        imgs = batch[0].reshape((-1, 28, 28, 1))\n",
    "        batch_cost, _ = sess.run([cost, opt], feed_dict={inputs_: imgs,\n",
    "                                                         targets_: imgs})\n",
    "\n",
    "    print(\"Epoch: {}/{}...\".format(e+1, epochs),\n",
    "          \"Training loss: {:.4f}\".format(batch_cost))"
   ]
  },
  {
   "cell_type": "code",
   "execution_count": null,
   "metadata": {},
   "outputs": [],
   "source": []
  }
 ],
 "metadata": {
  "kernelspec": {
   "display_name": "Python 3",
   "language": "python",
   "name": "python3"
  },
  "language_info": {
   "codemirror_mode": {
    "name": "ipython",
    "version": 3
   },
   "file_extension": ".py",
   "mimetype": "text/x-python",
   "name": "python",
   "nbconvert_exporter": "python",
   "pygments_lexer": "ipython3",
   "version": "3.7.3"
  }
 },
 "nbformat": 4,
 "nbformat_minor": 2
}
